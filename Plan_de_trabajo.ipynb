{
 "cells": [
  {
   "cell_type": "markdown",
   "metadata": {},
   "source": [
    "# Hola &#x1F600;,\n",
    "\n",
    "Soy **Hesus Garcia** – , tu revisor de confianza, también conocido como **\"El Hesus que lleva la H de 'héroe' del código\" 🦸‍♂️**. Sí, soy el único Hesus con H que te ayudará a llevar tu trabajo al siguiente nivel. Estoy preparado con observaciones y sugerencias que harán que tu proyecto destaque y esté a la altura de las mejores prácticas en desarrollo. ¡Prepárate para mejorar y brillar en el mundo del código! 🚀\n",
    "\n",
    "Cada vez que encuentre un detalle importante en tu código, te lo señalaré para que puedas corregirlo y así te prepares para un ambiente de trabajo real, donde el líder de tu equipo actuaría de manera similar. Si en algún momento no logras solucionar el problema, te daré más detalles para ayudarte en nuestra próxima oportunidad de revisión.\n",
    "\n",
    "Es importante que cuando encuentres un comentario, **no los muevas, no los modifiques, ni los borres**.\n",
    "\n",
    "---\n",
    "\n",
    "### Formato de Comentarios\n",
    "\n",
    "Revisaré cuidadosamente cada implementación en tu notebook para asegurar que cumpla con los requisitos y te daré comentarios de acuerdo al siguiente formato:\n",
    "\n",
    "\n",
    "<div class=\"alert alert-block alert-success\">\n",
    "<b>Comentario del revisor</b> <a class=\"tocSkip\"></a><br>\n",
    "    \n",
    "<b>Éxito</b> - ¡Excelente trabajo! Esta parte está bien implementada y contribuye significativamente al análisis de datos o al proyecto. Continúa aplicando estas buenas prácticas en futuras secciones.\n",
    "    \n",
    "</div>\n",
    "\n",
    "<div class=\"alert alert-block alert-warning\">\n",
    "<b>Comentario del revisor</b> <a class=\"tocSkip\"></a><br>\n",
    "    \n",
    "<b>Atención</b> ⚠️ - Este código está correcto, pero se puede optimizar. Considera implementar mejoras para que sea más eficiente y fácil de leer. Esto fortalecerá la calidad de tu proyecto.\n",
    "    \n",
    "</div>\n",
    "\n",
    "<div class=\"alert alert-block alert-danger\">\n",
    "<b>Comentario del revisor</b> <a class=\"tocSkip\"></a><br>\n",
    "    \n",
    "<b>A resolver</b> ❗ - Aquí hay un problema o error en el código que es necesario corregir para aprobar esta sección. Por favor, revisa y corrige este punto, ya que es fundamental para la validez del análisis y la precisión de los resultados.\n",
    "    \n",
    "</div>\n",
    "\n",
    "---\n",
    "\n",
    "Al final de cada revisión, recibirás un **Comentario General del Revisor** que incluirá:\n",
    "\n",
    "- **Aspectos positivos:** Un resumen de los puntos fuertes de tu proyecto.\n",
    "- **Áreas de mejora:** Sugerencias sobre aspectos donde puedes mejorar.\n",
    "- **Temas adicionales para investigar:** Ideas de temas opcionales que puedes explorar por tu cuenta para desarrollar aún más tus habilidades.\n",
    "\n",
    "Estos temas adicionales no son obligatorios en esta etapa, pero pueden serte útiles para profundizar en el futuro.\n",
    "\n",
    "--- \n",
    "\n",
    "Esta estructura en viñetas facilita la lectura y comprensión de cada parte del comentario final.\n",
    "\n",
    "También puedes responderme de la siguiente manera si tienes alguna duda o quieres aclarar algo específico:\n",
    "\n",
    "\n",
    "<div class=\"alert alert-block alert-info\">\n",
    "<b>Respuesta del estudiante</b> <a class=\"tocSkip\"></a>\n",
    "    \n",
    "Aquí puedes escribir tu respuesta o pregunta sobre el comentario.\n",
    "    \n",
    "</div>\n"
   ]
  },
  {
   "cell_type": "markdown",
   "metadata": {},
   "source": [
    "Omar Mancilla Martínez"
   ]
  },
  {
   "cell_type": "markdown",
   "metadata": {},
   "source": [
    "# Proyecto Final: "
   ]
  },
  {
   "cell_type": "markdown",
   "metadata": {},
   "source": [
    "### Objetivos:\n",
    "\n",
    "- pronosticar la tasa de cancelación de clientes\n",
    "- generar un modelo que prediga que clientes planean abanoar el servicio\n",
    "    - Determinar la curva AUC-ROC de dicho modelo\n",
    "    - Determinar la exactitud del modelo"
   ]
  },
  {
   "cell_type": "markdown",
   "metadata": {},
   "source": [
    "## Plan de Trabajo\n",
    "Plan de trabajo para el proyecto final de Tripleten."
   ]
  },
  {
   "cell_type": "markdown",
   "metadata": {},
   "source": [
    "## EDA\n",
    "Iniciamos con la un análisis exploratorio de los datos para entender la información que tenemos y determinar el plan a seguir."
   ]
  },
  {
   "cell_type": "markdown",
   "metadata": {},
   "source": [
    "Objetivos del EDA: \n",
    "- Entender las cuatro fuentes de datos que tenemos.\n",
    "- Revisar la calidad de las fuentes de datos\n",
    "- Generar un diccionario de datos\n",
    "- Determinar que pre-procesamiento es necesario\n",
    "- Encontrar tendencias generales en los datos\n",
    "- Determinar el desbalance de clases\n"
   ]
  },
  {
   "cell_type": "markdown",
   "metadata": {},
   "source": [
    "### Carga de datos:\n",
    "Cargaremos las librerias pertinentes y los datos en archivos CSV."
   ]
  },
  {
   "cell_type": "code",
   "execution_count": null,
   "metadata": {},
   "outputs": [],
   "source": [
    "import pandas as pd\n",
    "import numpy as np\n",
    "import matplotlib.pyplot as plt\n",
    "import seaborn as sns\n",
    "\n",
    "from sklearn.model_selection import train_test_split\n",
    "from boruta import BorutaPy\n",
    "from imblearn.over_sampling import SMOTE\n",
    "\n",
    "\n",
    "from sklearn.model_selection import cross_val_score, KFold\n",
    "from sklearn.pipeline import Pipeline\n",
    "from sklearn.preprocessing import StandardScaler\n",
    "from sklearn.ensemble import RandomForestClassifier  # o el modelo que prefieras\n",
    "from sklearn.metrics import accuracy_score\n",
    "from sklearn.metrics import auc\n",
    "from sklearn.metrics import roc_curve"
   ]
  },
  {
   "cell_type": "code",
   "execution_count": 2,
   "metadata": {},
   "outputs": [],
   "source": [
    "df_personal = pd.read_csv(\"./datasets/personal.csv\")\n",
    "df_phone = pd.read_csv(\"./datasets/phone.csv \")\n",
    "df_contract = pd.read_csv(\"./datasets/contract.csv\")\n",
    "df_internet = pd.read_csv(\"./datasets/internet.csv\")"
   ]
  },
  {
   "cell_type": "markdown",
   "metadata": {},
   "source": [
    "Ahora exploraremos los dataframes a traves de las siguientes funciones:"
   ]
  },
  {
   "cell_type": "code",
   "execution_count": 3,
   "metadata": {},
   "outputs": [],
   "source": [
    "def explore(df):\n",
    "    display(df.head())\n",
    "    print(df.info())\n",
    "    print(\"\\n shape:\", df.shape)\n",
    "    display(df.describe())\n",
    "    print(\"Cantidad de datos nulos:\\n\", df.isnull().sum(), \"\\n\")\n",
    "\n",
    "    print(\"Valores comunes:\")\n",
    "    for columna in df.columns:\n",
    "        print(f\"Valores más comunes en la columna '{columna}':\")\n",
    "        print(df[columna].value_counts())"
   ]
  },
  {
   "cell_type": "code",
   "execution_count": 4,
   "metadata": {},
   "outputs": [],
   "source": [
    "\n",
    "def plot_raincloud(df):\n",
    "    # Verify all columns are numeric\n",
    "    if not all(pd.api.types.is_numeric_dtype(df[col]) for col in df.columns):\n",
    "        raise ValueError(\n",
    "            \"All columns in the DataFrame must be numeric to create a raincloud plot.\")\n",
    "\n",
    "    fig, ax = plt.subplots(figsize=(8, 4))\n",
    "\n",
    "    # Iterate over each column in the DataFrame and create a raincloud plot\n",
    "    for idx, (column, data) in enumerate(df.items()):\n",
    "        # Boxplot for each feature\n",
    "        bp = ax.boxplot([data], patch_artist=True,\n",
    "                        vert=False, positions=[idx + 1])\n",
    "        bp['boxes'][0].set_facecolor(\n",
    "            'yellowgreen' if idx % 2 == 0 else 'olivedrab')\n",
    "        bp['boxes'][0].set_alpha(0.4)\n",
    "\n",
    "        # Violin plot for each feature\n",
    "        vp = ax.violinplot([data], points=500, showmeans=False, showextrema=False,\n",
    "                           showmedians=False, vert=False, positions=[idx + 1])\n",
    "        vp['bodies'][0].get_paths()[0].vertices[:, 1] = np.clip(\n",
    "            vp['bodies'][0].get_paths()[0].vertices[:, 1], idx + 1, idx + 2)\n",
    "        vp['bodies'][0].set_color('thistle' if idx % 2 == 0 else 'orchid')\n",
    "\n",
    "        # Scatter plot for each feature with jitter\n",
    "        y = np.full(len(data), idx + 1) + \\\n",
    "            np.random.uniform(low=-0.05, high=0.05, size=len(data))\n",
    "        ax.scatter(data, y, s=0.3, c='tomato' if idx %\n",
    "                   2 == 0 else 'darksalmon')\n",
    "\n",
    "    ax.set_yticks(np.arange(1, len(df.columns) + 1))\n",
    "    ax.set_yticklabels(df.columns)\n",
    "    plt.xlabel('Values')\n",
    "    plt.title(\"Raincloud plot\")\n",
    "    plt.show()"
   ]
  },
  {
   "cell_type": "markdown",
   "metadata": {},
   "source": [
    "#### Personal:"
   ]
  },
  {
   "cell_type": "code",
   "execution_count": 5,
   "metadata": {},
   "outputs": [
    {
     "data": {
      "image/png": "[encoded data removed]"
     },
     "metadata": {},
     "output_type": "display_data"
    }
   ],
   "source": [
    "plot_raincloud(pd.DataFrame(df_personal[\"SeniorCitizen\"]))"
   ]
  },
  {
   "cell_type": "code",
   "execution_count": 6,
   "metadata": {},
   "outputs": [
    {
     "data": {},
     "metadata": {},
     "output_type": "display_data"
    },
    {
     "data": {},
     "metadata": {},
     "output_type": "display_data"
    }
   ],
   "source": [
    "explore(df_personal)"
   ]
  },
  {
   "cell_type": "markdown",
   "metadata": {},
   "source": [
    "##### Observaciones:\n",
    "- Notamos que no tenemos valores nulos en el dataframe\n",
    "- podemos codificar la mayoria de las columnas, pues son binarias. Como \"gender\", \"partner\", \"seniorCitizen\", \n",
    "- Solo el 16% son senior, segun SeniorCitizen\n",
    "\n",
    "#### Contract:"
   ]
  },
  {
   "cell_type": "code",
   "execution_count": 7,
   "metadata": {},
   "outputs": [
    {
     "data": {
      "image/png": "[encoded data removed]"
     },
     "metadata": {},
     "output_type": "display_data"
    }
   ],
   "source": [
    "plot_raincloud(pd.DataFrame(df_contract[\"MonthlyCharges\"]))"
   ]
  },
  {
   "cell_type": "code",
   "execution_count": 8,
   "metadata": {},
   "outputs": [
    {
     "data": {},
     "metadata": {},
     "output_type": "display_data"
    },
    {
     "data": {},
     "metadata": {},
     "output_type": "display_data"
    }
   ],
   "source": [
    "explore(df_contract)"
   ]
  },
  {
   "cell_type": "markdown",
   "metadata": {},
   "source": [
    "##### Observaciones:\n",
    "- Las columnas de fechas tienen un tipo incorrecto.\n",
    "- ```TotalCharges``` tiene el tipo incorrecto y contiene valores invalidos ```\" \"```.\n",
    "- ```Type,\tPaperlessBilling,\tPaymentMethod``` pueden ser codificados.\n",
    "- ```MonthlyCharges``` parece estar distribuido de forma normal.\n",
    "- ```EndDate``` usa \"NO\" para seleccionar clientes que no han terminado su contrato, evitando poder usar el formato correcto.\n",
    "\n",
    "#### Internet:\n",
    "No usaremos un raincloud plot, pues no hay columnas numericas."
   ]
  },
  {
   "cell_type": "code",
   "execution_count": 9,
   "metadata": {},
   "outputs": [
    {
     "data": {},
     "metadata": {},
     "output_type": "display_data"
    },
    {
     "data": {},
     "metadata": {},
     "output_type": "display_data"
    }
   ],
   "source": [
    "explore(df_internet)"
   ]
  },
  {
   "cell_type": "markdown",
   "metadata": {},
   "source": [
    "##### Observaciones:\n",
    "- No tenemos datos nulos\n",
    "- Todas las columnas excepto el id de cliente, pueden ser codificadas.\n",
    "\n",
    "#### Phone:\n",
    "No crearemos un raincloud plot, pues no hay columnas numericas."
   ]
  },
  {
   "cell_type": "code",
   "execution_count": 10,
   "metadata": {},
   "outputs": [
    {
     "data": {},
     "metadata": {},
     "output_type": "display_data"
    },
    {
     "data": {},
     "metadata": {},
     "output_type": "display_data"
    }
   ],
   "source": [
    "explore(df_phone)"
   ]
  },
  {
   "cell_type": "markdown",
   "metadata": {},
   "source": [
    "##### Observaciones:\n",
    "- No tenemos datos nulos\n",
    "- La unica columna puede ser codificada."
   ]
  },
  {
   "cell_type": "markdown",
   "metadata": {},
   "source": [
    "### Dicciónario de datos:\n",
    "Con lo explroado podemos generar el siguiente diccionario de datos:\n",
    "\n",
    "- Personal.csv\n",
    "    - CustomerID: Identificador unico de cada cliente\n",
    "    - gender: genero del cliente\n",
    "    - SeniorCitizen: estado de señoria del cleinte\n",
    "    - Partner: Estado civil del cliente, yes: casado\n",
    "    - Dependents: ¿El cliente tiene familia que dependa de el?\n",
    "- Contract.csv\n",
    "    - customerID: Identificador unico de cada cliente\n",
    "    - BeginDate: Fecha en la que se firmo el contrato\n",
    "    - EndDate: Fecha en la que se abandono el servició, \"No\" en caso de que no se haya abandonado.\n",
    "    - Type: tipo de facturación\n",
    "    - PaperlessBilling: formato de las facturas\n",
    "    - PaymentMethod: Metodo de pago\n",
    "    - MonthlyCharges: Cargos mensuales\n",
    "    - TotalCharges: Cargos totales\n",
    "- Internet.csv\n",
    "    - CustomerID: Identificador unico de cada cliente\n",
    "    - InternetService\n",
    "    - OnlineSecurity\n",
    "    - OnlineBackup\n",
    "    - DeviceProtection\n",
    "    - TechSupport\n",
    "    - StreamingTV\n",
    "    - StreamingMovies\n",
    "- Phone.cvs\n",
    "    - CustomerID: Identificador unico de cada cliente\n",
    "    - MultipleLines: ¿El cliente tiene mas de una linea telefonica?"
   ]
  },
  {
   "cell_type": "markdown",
   "metadata": {},
   "source": [
    "### Pre-procesamiento:\n",
    "Aplicamos las observaciones a los respectivos datasets:"
   ]
  },
  {
   "cell_type": "markdown",
   "metadata": {},
   "source": [
    "#### contract:  \n",
    "Cambiaremos el formato de las fechas, igualmente cambiaremos \"No\" para los contratos no terminados, por una fecha futura."
   ]
  },
  {
   "cell_type": "code",
   "execution_count": null,
   "metadata": {},
   "outputs": [],
   "source": [
    "df_contract[\"BeginDate\"] = df_contract[\"BeginDate\"].astype(\"datetime64[ms]\")\n",
    "df_contract[\"EndDate\"] = (df_contract[\"EndDate\"].replace(\n",
    "    \"No\", \"2025-01-01\")).astype(\"datetime64[ms]\")"
   ]
  },
  {
   "cell_type": "markdown",
   "metadata": {},
   "source": [
    "Eliminamos los valores invalidos de \"TotalCharges\", debido a que solo tenemos 11 entradas y cambiamos el tipo de dato:"
   ]
  },
  {
   "cell_type": "code",
   "execution_count": null,
   "metadata": {},
   "outputs": [],
   "source": [
    "\n",
    "df_contract[df_contract[\"TotalCharges\"] == \" \"].info()\n",
    "df_contract = df_contract[df_contract[\"TotalCharges\"].replace(\n",
    "    \" \", np.nan).notna()]"
   ]
  },
  {
   "cell_type": "code",
   "execution_count": null,
   "metadata": {},
   "outputs": [
    {
     "data": {},
     "execution_count": 13,
     "metadata": {},
     "output_type": "execute_result"
    }
   ],
   "source": [
    "df_contract[\"TotalCharges\"] = df_contract[\"TotalCharges\"].astype(\"float64\")\n",
    "df_contract[df_contract[\"TotalCharges\"] == \" \"]"
   ]
  },
  {
   "cell_type": "markdown",
   "metadata": {},
   "source": [
    "Con esto corroboramos que los datos son correctos:\n",
    "\n"
   ]
  },
  {
   "cell_type": "code",
   "execution_count": 14,
   "metadata": {},
   "outputs": [
    {
     "data": {},
     "execution_count": 14,
     "metadata": {},
     "output_type": "execute_result"
    }
   ],
   "source": [
    "df_contract.info()\n",
    "df_contract"
   ]
  },
  {
   "cell_type": "markdown",
   "metadata": {},
   "source": [
    "### Enriquecimiento de datos:\n",
    "Crearemos la columna churn en \"df_contract\", esta columna sera nuestro objetivo en los modelos.\n"
   ]
  },
  {
   "cell_type": "code",
   "execution_count": null,
   "metadata": {},
   "outputs": [],
   "source": [
    "df_contract[\"churn\"] = df_contract[\"EndDate\"].apply(\n",
    "    lambda x: 1 if x < pd.to_datetime(\"2025-01-01\")\n",
    "    else 0)"
   ]
  },
  {
   "cell_type": "markdown",
   "metadata": {},
   "source": [
    "### Dataframe maestro:\n",
    "\n",
    "Crearemos un dataframe maestro con la intención de juntar la información a trabajar, esto a través de inner joins con el proposito de tener unicamente registros completos.\n"
   ]
  },
  {
   "cell_type": "code",
   "execution_count": null,
   "metadata": {},
   "outputs": [
    {
     "data": {},
     "execution_count": 16,
     "metadata": {},
     "output_type": "execute_result"
    }
   ],
   "source": [
    "df_master = df_contract.merge(df_personal, how=\"inner\", on=\"customerID\")\n",
    "df_master = df_master.merge(df_internet, how=\"inner\", on=\"customerID\")\n",
    "df_master = df_master.merge(df_phone, how=\"inner\", on=\"customerID\")\n",
    "\n",
    "df_master"
   ]
  },
  {
   "cell_type": "code",
   "execution_count": 17,
   "metadata": {},
   "outputs": [],
   "source": [
    "df_master.info()"
   ]
  },
  {
   "cell_type": "markdown",
   "metadata": {},
   "source": []
  },
  {
   "cell_type": "markdown",
   "metadata": {},
   "source": [
    "## Procesamiento para los modelos:\n",
    "\n",
    "Realizaremos la separación entre caracteristicas y objetivo del dataframe maestro."
   ]
  },
  {
   "cell_type": "markdown",
   "metadata": {},
   "source": [
    "### Separación de caracteristicas:\n",
    "Retiraremos \"CustomerID\" pues sabemos no es necesario, se filtraran mas caractisticas mas adelante.\n",
    "\n"
   ]
  },
  {
   "cell_type": "code",
   "execution_count": null,
   "metadata": {},
   "outputs": [],
   "source": [
    "features = df_master.drop([\"customerID\", \"churn\", \"EndDate\"], axis=1)\n",
    "target = df_master[\"churn\"]"
   ]
  },
  {
   "cell_type": "markdown",
   "metadata": {},
   "source": [
    "### Codificación de caracteristicas:\n"
   ]
  },
  {
   "cell_type": "code",
   "execution_count": null,
   "metadata": {},
   "outputs": [
    {
     "data": {},
     "execution_count": 19,
     "metadata": {},
     "output_type": "execute_result"
    }
   ],
   "source": [
    "features_ohe = pd.get_dummies(features, drop_first=True)\n",
    "features_ohe"
   ]
  },
  {
   "cell_type": "code",
   "execution_count": 20,
   "metadata": {},
   "outputs": [],
   "source": [
    "features_ohe.info()"
   ]
  },
  {
   "cell_type": "markdown",
   "metadata": {},
   "source": [
    "### Balanceo de clases:"
   ]
  },
  {
   "cell_type": "code",
   "execution_count": null,
   "metadata": {},
   "outputs": [
    {
     "data": {},
     "execution_count": 21,
     "metadata": {},
     "output_type": "execute_result"
    }
   ],
   "source": [
    "target.value_counts()"
   ]
  },
  {
   "cell_type": "markdown",
   "metadata": {},
   "source": [
    "Podemos ver que hay un desbalance de clases de alrededor de 65-35.\n",
    "\n",
    "Balancearemos la cantidad de clases usando SMOTE"
   ]
  },
  {
   "cell_type": "code",
   "execution_count": null,
   "metadata": {},
   "outputs": [],
   "source": [
    "\n",
    "# Selecciona la columna objetivo (la que tiene la clase desbalanceada)\n",
    "y = target\n",
    "\n",
    "# Selecciona las columnas de características\n",
    "features_ohe_num = features_ohe\n",
    "features_ohe_num['BeginDate'] = pd.to_numeric(features_ohe['BeginDate'])\n",
    "X = features_ohe\n",
    "\n",
    "# Aplicar SMOTE para balancear las clases\n",
    "smote = SMOTE(random_state=42)\n",
    "X_resampled, y_resampled = smote.fit_resample(X, y)\n",
    "\n",
    "# Crear un nuevo DataFrame con los datos balanceados (opcional)\n",
    "features_ohe_resampled = pd.DataFrame(X_resampled, columns=X.columns)\n",
    "features_ohe_resampled[\"BeginDate\"] = features_ohe_resampled[\"BeginDate\"].astype(\n",
    "    \"datetime64[ms]\")\n",
    "target_resampled = y_resampled\n",
    "\n",
    "# Revisar la distribución de las clases después de aplicar SMOTE\n",
    "print(\"Distribución de clases después de SMOTE:\")\n",
    "print(target_resampled.value_counts())"
   ]
  },
  {
   "cell_type": "code",
   "execution_count": 27,
   "metadata": {},
   "outputs": [],
   "source": [
    "features_ohe_resampled.info()"
   ]
  },
  {
   "cell_type": "markdown",
   "metadata": {},
   "source": []
  },
  {
   "cell_type": "markdown",
   "metadata": {},
   "source": [
    "### División del dataset:\n",
    "Dividiremos el dataset en dos partes:\n",
    "- Train & validtion 90%\n",
    "- Test 10%\n",
    "\n",
    "Esto debido a que usaremos cross validation en los modelos para evaluar de forma robusta.\n"
   ]
  },
  {
   "cell_type": "code",
   "execution_count": null,
   "metadata": {},
   "outputs": [],
   "source": [
    "TV_features, test_features, TV_target, test_target = train_test_split(\n",
    "    features_ohe, target, test_size=0.1, random_state=42\n",
    ")"
   ]
  },
  {
   "cell_type": "markdown",
   "metadata": {},
   "source": [
    "### Escalado de caracteristicas\n",
    "Debido a que evaluaremos con cross validation, el escalado se hara dentro de cada \"pliegue\" del dataset TV a través de pipelines, esto para evitar data leakage."
   ]
  },
  {
   "cell_type": "code",
   "execution_count": null,
   "metadata": {},
   "outputs": [],
   "source": [
    "def pipeline(Model):\n",
    "    pipeline = Pipeline([\n",
    "        ('scaler', StandardScaler()),  # Escala las características\n",
    "        ('model', Model())  # Elige el modelo que deseas\n",
    "    ])"
   ]
  },
  {
   "cell_type": "markdown",
   "metadata": {},
   "source": [
    "### Selección de caracteristicas:\n",
    "Usaremos boruta junto con un bosque aleatorio para seleccionar las caracteristicas relevantes para los modelos, esto con el fin de disminuir la carga computacional y reducir el tiempo de ejecución:"
   ]
  },
  {
   "cell_type": "code",
   "execution_count": null,
   "metadata": {},
   "outputs": [],
   "source": [
    "X = (TV_features.drop([\"BeginDate\"], axis=1)).values\n",
    "y = TV_target.values\n",
    "y = y.ravel()\n",
    "\n",
    "# define random forest classifier, with utilising all cores and\n",
    "# sampling in proportion to y labels\n",
    "rf = RandomForestClassifier(n_jobs=-1, class_weight='balanced', max_depth=5)\n",
    "# define Boruta feature selection method\n",
    "feat_selector = BorutaPy(rf, n_estimators='auto', verbose=2, random_state=1)\n",
    "\n",
    "# find all relevant features - 5 features should be selected\n",
    "feat_selector.fit(X, y)\n",
    "\n",
    "# check selected features - first 5 features are selected\n",
    "feat_selector.support_\n",
    "\n",
    "# check ranking of features\n",
    "feat_selector.ranking_\n",
    "\n",
    "# call transform() on X to filter it down to selected features\n",
    "features_selected = feat_selector.transform(X)"
   ]
  },
  {
   "cell_type": "code",
   "execution_count": 28,
   "metadata": {},
   "outputs": [
    {
     "data": {},
     "execution_count": 28,
     "metadata": {},
     "output_type": "execute_result"
    }
   ],
   "source": [
    "features_selected.shape"
   ]
  },
  {
   "cell_type": "markdown",
   "metadata": {},
   "source": [
    "Boruta ha seleccionado diez caracteristicas para el modelo.\n",
    "\n",
    "Procederemos a graficar la importancia de las caracteristicas en un bosque de decición:"
   ]
  },
  {
   "cell_type": "code",
   "execution_count": null,
   "metadata": {},
   "outputs": [
    {
     "data": {
      "image/png": "[encoded data removed]"
     },
     "metadata": {},
     "output_type": "display_data"
    }
   ],
   "source": [
    "importances = rf.feature_importances_\n",
    "indices = np.argsort(importances)[::-1]\n",
    "\n",
    "feature_names = TV_features.columns\n",
    "\n",
    "n = 15\n",
    "plt.figure(figsize=(10, 6))\n",
    "\n",
    "plt.title(\"Importancia de las Características\")\n",
    "\n",
    "\n",
    "plt.bar(range(n), importances[indices[:n]])\n",
    "plt.xticks(range(n), feature_names[indices[:n]], rotation=80)\n",
    "plt.xlim([-1, n])\n",
    "plt.show()"
   ]
  },
  {
   "cell_type": "markdown",
   "metadata": {},
   "source": [
    "Observacuiones:\n",
    "- Boruta selecciono diez caracteristicas.\n",
    "- La importancia de las caracteristicas disminuye a la mitad a partir de la cuarta caracteristica, asi que consideramos la decisión de boruta apropiada."
   ]
  },
  {
   "cell_type": "markdown",
   "metadata": {},
   "source": [
    "## Analisís de los datos:\n",
    "\n",
    "A partir de ahora desarrollaremos los modelos de ML con las caracteristicas trabajadas hasta ahora.\n",
    "Aqui comienza la solución de la asignación principal:\n"
   ]
  },
  {
   "cell_type": "markdown",
   "metadata": {},
   "source": [
    "### Generar modelos de Machine Learning:\n"
   ]
  },
  {
   "cell_type": "markdown",
   "metadata": {},
   "source": [
    "#### Modelo Dummy:\n",
    "\n",
    "#### Arbol de decisiones:\n",
    "\n",
    "\n",
    "#### Random Forest:\n",
    "\n",
    "\n",
    "#### Regresión Logística\n",
    "\n",
    "#### Decenso de gradiente"
   ]
  },
  {
   "cell_type": "markdown",
   "metadata": {},
   "source": [
    "### Evaluación de los modelos:\n"
   ]
  },
  {
   "cell_type": "markdown",
   "metadata": {},
   "source": [
    "#### Curva ROC"
   ]
  },
  {
   "cell_type": "markdown",
   "metadata": {},
   "source": [
    "#### Valor PR"
   ]
  },
  {
   "cell_type": "markdown",
   "metadata": {},
   "source": [
    "#### Exploración de resultados:"
   ]
  },
  {
   "cell_type": "markdown",
   "metadata": {},
   "source": [
    "### Exploración del mejor modelo:"
   ]
  },
  {
   "cell_type": "markdown",
   "metadata": {},
   "source": [
    "#### Puntuajes"
   ]
  },
  {
   "cell_type": "markdown",
   "metadata": {},
   "source": [
    "#### Curva ROC"
   ]
  },
  {
   "cell_type": "markdown",
   "metadata": {},
   "source": [
    "#### Curva PR"
   ]
  },
  {
   "cell_type": "markdown",
   "metadata": {},
   "source": [
    "## Observaciones y Conclusiones"
   ]
  },
  {
   "cell_type": "markdown",
   "metadata": {},
   "source": [
    "# Comentario General del Revisor"
   ]
  },
  {
   "cell_type": "markdown",
   "metadata": {},
   "source": [
    "<div class=\"alert alert-block alert-success\">\n",
    "<b>Comentario del revisor</b> <a class=\"tocSkip\"></a><br>\n",
    "\n",
    "¡Omar, tu proyecto ya es muy sólido y tiene una estructura excelente para el análisis y modelado de datos! 🚀 Honestamente, podríamos aprobarlo en este punto, ya que cumple con los requisitos esenciales. Sin embargo, creo que podrías beneficiarte de obtener un poco de feedback adicional para perfeccionar algunos detalles antes de avanzar.\n",
    "\n",
    "### Lo que se Está Haciendo Bien:\n",
    "1. **Análisis Exploratorio de Datos (EDA) Completo**: Has realizado un EDA exhaustivo que aborda la calidad de los datos y te da un buen punto de partida. ¡Excelente trabajo en identificar variables importantes y planificar el preprocesamiento!\n",
    "2. **Pre-procesamiento de Datos**: Me gusta cómo has abordado problemas específicos, como la codificación y los tipos de datos incorrectos. Este nivel de detalle asegura que tu dataset esté en óptimas condiciones para el modelado.\n",
    "3. **Planificación de Modelos**: Considerar múltiples enfoques, desde modelos básicos hasta algoritmos más avanzados, muestra una estrategia robusta. ¡Gran elección al evaluar diferentes métodos!\n",
    "4. **Evaluación Completa**: Incluir métricas como la curva ROC y el valor PR te permitirá evaluar a fondo el rendimiento de los modelos, y me alegra ver que estás considerando estas medidas.\n",
    "\n",
    "### Áreas de Mejora y Consideraciones Adicionales:\n",
    "1. **Selección de Características**: Aunque tu análisis es muy bueno, podrías explorar técnicas avanzadas para afinar la selección de variables. Podrías investigar métodos como **embedding, wrapping y filtering**:\n",
    "   - **Filtering**: Basado en criterios estadísticos independientes del modelo.\n",
    "   - **Wrapping**: Utiliza el rendimiento del modelo para seleccionar características.\n",
    "   - **Embedding**: Se realiza dentro del propio proceso de entrenamiento del modelo.\n",
    "   - Herramientas como **SHAP** o **Boruta** podrían ofrecerte insights valiosos. Esto dependerá del tiempo que tengas para implementar estas ideas.\n",
    "2. **Evaluación de Tiempo**: Utilizar `timeit` para medir el tiempo de ejecución de tus procesos podría ser muy útil, especialmente si trabajas con datasets extensos. Esto no es obligatorio, pero es una práctica recomendada para proyectos de gran envergadura.\n",
    "3. **Balance de Clases**: Te sugiero detallar más tu enfoque para balancear las clases, explicando las técnicas que planeas usar, como **SMOTE** o **undersampling**, y por qué las seleccionaste. Esto aportará más claridad a tu metodología.\n",
    "\n",
    "### Reflexión Final:\n",
    "Tu proyecto es impresionante y está listo para destacarse. Estas sugerencias son opcionales y dependen de tu disponibilidad de tiempo para integrarlas. Si decides implementarlas, podrían enriquecer aún más tu análisis y hacer tu proyecto más robusto.\n",
    "\n",
    "**Si no decides agregar estas mejoras, puedes simplemente regresar el proyecto tal y como está, y lo aprobaré inmediatamente.** De cualquier forma, ¡has hecho un gran trabajo hasta ahora!\n",
    "\n",
    "¡Sigue con ese entusiasmo y pasión por aprender! Este proyecto te está preparando muy bien para una carrera exitosa en ciencia de datos, y estoy seguro de que te abrirá muchas oportunidades. 🌟😊 ¡Mucho éxito y sigue adelante con confianza!\n",
    "</div>"
   ]
  },
  {
   "cell_type": "markdown",
   "metadata": {},
   "source": [
    "<div class=\"alert alert-block alert-info\">\n",
    "<b>Respuesta del estudiante</b> <a class=\"tocSkip\"></a>\n",
    "    \n",
    "Hesus, te agradezco las observaciones y recomendaciones, puse en practica varias y deje afuera otras, sin embargo espero seguir itereando el proyecto en las siguientes etapas.\n",
    "\n",
    "\n",
    "    \n",
    "</div>"
   ]
  },
  {
   "cell_type": "markdown",
   "metadata": {},
   "source": [
    "# Comentario de Segunda Iteración"
   ]
  },
  {
   "cell_type": "markdown",
   "metadata": {},
   "source": [
    "<div class=\"alert alert-block alert-success\">    \n",
    "<b>Comentario del revisor</b> <a class=\"tocSkip\"></a>\n",
    "    \n",
    "¡Qué gran trabajo has hecho!  &#128077;  Podemos aprobar el proyecto. <br>\n",
    "Has demostrado un excelente conocimiento en la construcción de modelos, al eliminar variables innecesaria <br>\n",
    "<br>Quiero felicitarte por un trabajo excepcional y por la calidad de tu análisis. Te animo a que sigas aprendiendo y desafiando tu potencial en los próximos sprints. Estoy seguro de que tus habilidades y conocimientos serán valiosos en el futuro y te permitirán abordar problemas cada vez más complejos con éxito.\n",
    "</div>"
   ]
  }
 ],
 "metadata": {
  "kernelspec": {
   "display_name": "base",
   "language": "python",
   "name": "python3"
  },
  "language_info": {
   "codemirror_mode": {
    "name": "ipython",
    "version": 3
   },
   "file_extension": ".py",
   "mimetype": "text/x-python",
   "name": "python",
   "nbconvert_exporter": "python",
   "pygments_lexer": "ipython3",
   "version": "3.11.5"
  },
  "toc": {
   "base_numbering": 1,
   "nav_menu": {},
   "number_sections": true,
   "sideBar": true,
   "skip_h1_title": true,
   "title_cell": "Table of Contents",
   "title_sidebar": "Contents",
   "toc_cell": false,
   "toc_position": {},
   "toc_section_display": true,
   "toc_window_display": false
  }
 },
 "nbformat": 4,
 "nbformat_minor": 2
}
